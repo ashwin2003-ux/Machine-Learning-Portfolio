{
 "cells": [
  {
   "cell_type": "markdown",
   "id": "08ea7ddb",
   "metadata": {},
   "source": [
    "# How to Open Jupyter Notebook in Your Folder and Create a .ipynb File\n",
    " \n",
    "## 1. Open Jupyter Notebook in a Specific Folder\n",
    "To open Jupyter Notebook in a specific folder:\n",
    "1. Open your terminal (Command Prompt or PowerShell).\n",
    "2. Navigate to your desired folder using the `cd` command. For example:\n",
    "   ```\n",
    "   cd C:\\Users\\Renuka\\Desktop\\Skillcraft\n",
    "   ```\n",
    "3. Run the following command:\n",
    "   ```\n",
    "   jupyter notebook\n",
    "   ```\n",
    "This will launch the Jupyter Notebook interface in your browser, with the current folder as the root."
   ]
  },
  {
   "cell_type": "markdown",
   "id": "c93964ad",
   "metadata": {},
   "source": [
    "## 2. Create a New .ipynb File\n",
    "Once the Jupyter Notebook interface is open in your browser:\n",
    "1. Click the 'New' button in the top right corner.\n",
    "2. Select 'Python 3' (or your preferred kernel) from the dropdown menu.\n",
    "3. A new notebook (.ipynb file) will be created in your folder.\n",
    "4. You can now start adding code and markdown cells to your new notebook."
   ]
  }
 ],
 "metadata": {
  "language_info": {
   "name": "python"
  }
 },
 "nbformat": 4,
 "nbformat_minor": 5
}
